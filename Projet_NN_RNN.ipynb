{
 "cells": [
  {
   "cell_type": "markdown",
   "metadata": {},
   "source": [
    "# Projet Neural Network - Corporación Favorita Grocery Sales Forecasting\n",
    "\n",
    "Brick-and-mortar grocery stores are always in a delicate dance with purchasing and sales forecasting. Predict a little over, and grocers are stuck with overstocked, perishable goods. Guess a little under, and popular items quickly sell out, leaving money on the table and customers fuming.\n",
    "\n",
    "The problem becomes more complex as retailers add new locations with unique needs, new products, ever transitioning seasonal tastes, and unpredictable product marketing. Corporación Favorita, a large Ecuadorian-based grocery retailer, knows this all too well. They operate hundreds of supermarkets, with over 200,000 different products on their shelves.\n",
    "\n",
    "Corporación Favorita has challenged the Kaggle community to build a model that more accurately forecasts product sales. They currently rely on subjective forecasting methods with very little data to back them up and very little automation to execute plans. They’re excited to see how machine learning could better ensure they please customers by having just enough of the right products at the right time."
   ]
  },
  {
   "cell_type": "code",
   "execution_count": 1,
   "metadata": {},
   "outputs": [
    {
     "name": "stderr",
     "output_type": "stream",
     "text": [
      "Using TensorFlow backend.\n"
     ]
    }
   ],
   "source": [
    "import numpy as np\n",
    "import tensorflow as tf\n",
    "from tensorflow import keras\n",
    "from sklearn.preprocessing import MinMaxScaler\n",
    "import matplotlib.pyplot as plt\n",
    "import random as rd\n",
    "from tqdm import tqdm\n",
    "import pandas as pd\n",
    "import os\n",
    "from sklearn.impute import SimpleImputer\n",
    "from sklearn.feature_selection import SelectFromModel\n",
    "from sklearn.linear_model import LassoCV\n",
    "from sklearn.ensemble import RandomForestRegressor\n",
    "from xgboost.sklearn import XGBRegressor\n",
    "from sklearn.metrics import r2_score\n",
    "from seasonal import *\n",
    "from statsmodels.tsa.tsatools import *\n",
    "from statsmodels.tsa.stattools import *\n",
    "from statsmodels.tsa.tsatools import detrend\n",
    "from keras.models import Sequential\n",
    "from keras.layers import Dense\n",
    "from keras.layers import LSTM\n",
    "import itertools\n",
    "import time\n",
    "\n",
    "from neural_network import neural_net_model, neural_net_model_3layers, rnn_model"
   ]
  },
  {
   "cell_type": "code",
   "execution_count": 2,
   "metadata": {
    "scrolled": false
   },
   "outputs": [],
   "source": [
    "# Refer to the py file: \"processing_data.py\"\n",
    "from processing_data import preprocessing"
   ]
  },
  {
   "cell_type": "markdown",
   "metadata": {},
   "source": [
    "# One shop forecast"
   ]
  },
  {
   "cell_type": "markdown",
   "metadata": {},
   "source": [
    "## I - Imports"
   ]
  },
  {
   "cell_type": "code",
   "execution_count": 3,
   "metadata": {},
   "outputs": [
    {
     "name": "stderr",
     "output_type": "stream",
     "text": [
      "/Users/louisgiron/anaconda3/lib/python3.6/site-packages/IPython/core/interactiveshell.py:3185: DtypeWarning: Columns (5) have mixed types. Specify dtype option on import or set low_memory=False.\n",
      "  if (yield from self.run_code(code, result)):\n",
      "/Users/louisgiron/Desktop/ENSAE - Mastère spé/Reseaux de neurones/projet_nn/processing_data.py:41: SettingWithCopyWarning: \n",
      "A value is trying to be set on a copy of a slice from a DataFrame.\n",
      "Try using .loc[row_indexer,col_indexer] = value instead\n",
      "\n",
      "See the caveats in the documentation: http://pandas.pydata.org/pandas-docs/stable/indexing.html#indexing-view-versus-copy\n",
      "  train_small['unit_sales'] = train_small['unit_sales'].apply(lambda x:\n"
     ]
    },
    {
     "data": {
      "image/png": "[encoded data removed]",
      "text/plain": [
       "<Figure size 432x288 with 1 Axes>"
      ]
     },
     "metadata": {
      "needs_background": "light"
     },
     "output_type": "display_data"
    }
   ],
   "source": [
    "n = None\n",
    "store_selection = 'yes'\n",
    "\n",
    "train_all, test = preprocessing(n, store_selection)\n",
    "\n",
    "# We are studying only one store, so the information about the city, the\n",
    "# region are useless\n",
    "train_all = train_all.drop(['id', 'store_nbr', 'city', 'state',\n",
    "                       'cluster', 'type_x'], axis=1)\n",
    "train_all = train_all.set_index('date')"
   ]
  },
  {
   "cell_type": "code",
   "execution_count": 4,
   "metadata": {},
   "outputs": [
    {
     "name": "stdout",
     "output_type": "stream",
     "text": [
      "Train - heads:\n",
      "            item_nbr  unit_sales onpromotion  dcoilwtico   type_y    locale  \\\n",
      "date                                                                          \n",
      "2013-01-01    103665         7.0         NaN         NaN  Holiday  National   \n",
      "2013-01-01    105574         1.0         NaN         NaN  Holiday  National   \n",
      "2013-01-01    105575         2.0         NaN         NaN  Holiday  National   \n",
      "2013-01-01    108079         1.0         NaN         NaN  Holiday  National   \n",
      "2013-01-01    108701         1.0         NaN         NaN  Holiday  National   \n",
      "\n",
      "           locale_name         description transferred        family  class  \\\n",
      "date                                                                          \n",
      "2013-01-01     Ecuador  Primer dia del ano       False  BREAD/BAKERY   2712   \n",
      "2013-01-01     Ecuador  Primer dia del ano       False     GROCERY I   1045   \n",
      "2013-01-01     Ecuador  Primer dia del ano       False     GROCERY I   1045   \n",
      "2013-01-01     Ecuador  Primer dia del ano       False     GROCERY I   1030   \n",
      "2013-01-01     Ecuador  Primer dia del ano       False          DELI   2644   \n",
      "\n",
      "            perishable  transactions  \n",
      "date                                  \n",
      "2013-01-01           1         770.0  \n",
      "2013-01-01           0         770.0  \n",
      "2013-01-01           0         770.0  \n",
      "2013-01-01           0         770.0  \n",
      "2013-01-01           1         770.0  \n",
      "\n",
      "---\n",
      "Train - shape:\n",
      "(2057020, 13)\n"
     ]
    }
   ],
   "source": [
    "print('Train - heads:')\n",
    "print(train_all.head())\n",
    "print()\n",
    "print('---')\n",
    "print('Train - shape:')\n",
    "print(train_all.shape)"
   ]
  },
  {
   "cell_type": "code",
   "execution_count": 5,
   "metadata": {
    "scrolled": true
   },
   "outputs": [
    {
     "data": {
      "text/html": [
       "<div>\n",
       "<style scoped>\n",
       "    .dataframe tbody tr th:only-of-type {\n",
       "        vertical-align: middle;\n",
       "    }\n",
       "\n",
       "    .dataframe tbody tr th {\n",
       "        vertical-align: top;\n",
       "    }\n",
       "\n",
       "    .dataframe thead th {\n",
       "        text-align: right;\n",
       "    }\n",
       "</style>\n",
       "<table border=\"1\" class=\"dataframe\">\n",
       "  <thead>\n",
       "    <tr style=\"text-align: right;\">\n",
       "      <th></th>\n",
       "      <th>item_nbr</th>\n",
       "      <th>unit_sales</th>\n",
       "      <th>dcoilwtico</th>\n",
       "      <th>class</th>\n",
       "      <th>perishable</th>\n",
       "      <th>transactions</th>\n",
       "    </tr>\n",
       "  </thead>\n",
       "  <tbody>\n",
       "    <tr>\n",
       "      <th>count</th>\n",
       "      <td>2.057020e+06</td>\n",
       "      <td>2.057020e+06</td>\n",
       "      <td>1.385878e+06</td>\n",
       "      <td>2.057020e+06</td>\n",
       "      <td>2.057020e+06</td>\n",
       "      <td>2.052421e+06</td>\n",
       "    </tr>\n",
       "    <tr>\n",
       "      <th>mean</th>\n",
       "      <td>9.515877e+05</td>\n",
       "      <td>5.552518e+00</td>\n",
       "      <td>6.346885e+01</td>\n",
       "      <td>1.937001e+03</td>\n",
       "      <td>2.902072e-01</td>\n",
       "      <td>9.879964e+02</td>\n",
       "    </tr>\n",
       "    <tr>\n",
       "      <th>std</th>\n",
       "      <td>5.087340e+05</td>\n",
       "      <td>1.359333e+01</td>\n",
       "      <td>2.461697e+01</td>\n",
       "      <td>1.073640e+03</td>\n",
       "      <td>4.538580e-01</td>\n",
       "      <td>4.589323e+02</td>\n",
       "    </tr>\n",
       "    <tr>\n",
       "      <th>min</th>\n",
       "      <td>9.699500e+04</td>\n",
       "      <td>0.000000e+00</td>\n",
       "      <td>2.619000e+01</td>\n",
       "      <td>1.002000e+03</td>\n",
       "      <td>0.000000e+00</td>\n",
       "      <td>3.810000e+02</td>\n",
       "    </tr>\n",
       "    <tr>\n",
       "      <th>25%</th>\n",
       "      <td>5.227210e+05</td>\n",
       "      <td>1.000000e+00</td>\n",
       "      <td>4.572000e+01</td>\n",
       "      <td>1.066000e+03</td>\n",
       "      <td>0.000000e+00</td>\n",
       "      <td>7.130000e+02</td>\n",
       "    </tr>\n",
       "    <tr>\n",
       "      <th>50%</th>\n",
       "      <td>9.385700e+05</td>\n",
       "      <td>3.000000e+00</td>\n",
       "      <td>5.144000e+01</td>\n",
       "      <td>1.387000e+03</td>\n",
       "      <td>0.000000e+00</td>\n",
       "      <td>8.450000e+02</td>\n",
       "    </tr>\n",
       "    <tr>\n",
       "      <th>75%</th>\n",
       "      <td>1.313223e+06</td>\n",
       "      <td>5.946000e+00</td>\n",
       "      <td>9.334000e+01</td>\n",
       "      <td>2.652000e+03</td>\n",
       "      <td>1.000000e+00</td>\n",
       "      <td>1.046000e+03</td>\n",
       "    </tr>\n",
       "    <tr>\n",
       "      <th>max</th>\n",
       "      <td>2.124052e+06</td>\n",
       "      <td>2.142800e+03</td>\n",
       "      <td>1.106200e+02</td>\n",
       "      <td>7.034000e+03</td>\n",
       "      <td>1.000000e+00</td>\n",
       "      <td>3.401000e+03</td>\n",
       "    </tr>\n",
       "  </tbody>\n",
       "</table>\n",
       "</div>"
      ],
      "text/plain": [
       "           item_nbr    unit_sales    dcoilwtico         class    perishable  \\\n",
       "count  2.057020e+06  2.057020e+06  1.385878e+06  2.057020e+06  2.057020e+06   \n",
       "mean   9.515877e+05  5.552518e+00  6.346885e+01  1.937001e+03  2.902072e-01   \n",
       "std    5.087340e+05  1.359333e+01  2.461697e+01  1.073640e+03  4.538580e-01   \n",
       "min    9.699500e+04  0.000000e+00  2.619000e+01  1.002000e+03  0.000000e+00   \n",
       "25%    5.227210e+05  1.000000e+00  4.572000e+01  1.066000e+03  0.000000e+00   \n",
       "50%    9.385700e+05  3.000000e+00  5.144000e+01  1.387000e+03  0.000000e+00   \n",
       "75%    1.313223e+06  5.946000e+00  9.334000e+01  2.652000e+03  1.000000e+00   \n",
       "max    2.124052e+06  2.142800e+03  1.106200e+02  7.034000e+03  1.000000e+00   \n",
       "\n",
       "       transactions  \n",
       "count  2.052421e+06  \n",
       "mean   9.879964e+02  \n",
       "std    4.589323e+02  \n",
       "min    3.810000e+02  \n",
       "25%    7.130000e+02  \n",
       "50%    8.450000e+02  \n",
       "75%    1.046000e+03  \n",
       "max    3.401000e+03  "
      ]
     },
     "execution_count": 5,
     "metadata": {},
     "output_type": "execute_result"
    }
   ],
   "source": [
    "# Output variable\n",
    "train_all.describe()"
   ]
  },
  {
   "cell_type": "code",
   "execution_count": 6,
   "metadata": {},
   "outputs": [
    {
     "name": "stdout",
     "output_type": "stream",
     "text": [
      "Max unit sales:\n",
      "2142.8\n",
      "\n",
      "Min unit sales:\n",
      "0.0\n",
      "Moyenne unit sales:\n",
      "5.552517865941992\n",
      "\n"
     ]
    }
   ],
   "source": [
    "print('Max unit sales:')\n",
    "print(train_all.unit_sales.max())\n",
    "print()\n",
    "print('Min unit sales:')\n",
    "print(train_all.unit_sales.min())\n",
    "print('Moyenne unit sales:')\n",
    "print(train_all.unit_sales.mean())\n",
    "print()"
   ]
  },
  {
   "cell_type": "markdown",
   "metadata": {},
   "source": [
    "## II - Preprocessing of the data"
   ]
  },
  {
   "cell_type": "markdown",
   "metadata": {},
   "source": [
    "### A - Missing data"
   ]
  },
  {
   "cell_type": "code",
   "execution_count": 7,
   "metadata": {},
   "outputs": [
    {
     "name": "stdout",
     "output_type": "stream",
     "text": [
      "Before missing values management:\n",
      "----\n",
      "              Number of missing values  Share of missing\n",
      "item_nbr                             0              0.00\n",
      "unit_sales                           0              0.00\n",
      "onpromotion                     412459             20.05\n",
      "dcoilwtico                      671142             32.63\n",
      "type_y                         1721630             83.70\n",
      "locale                         1721630             83.70\n",
      "locale_name                    1721630             83.70\n",
      "description                    1721630             83.70\n",
      "transferred                    1721630             83.70\n",
      "family                               0              0.00\n",
      "class                                0              0.00\n",
      "perishable                           0              0.00\n",
      "transactions                      4599              0.22\n",
      "\n",
      "After missing values management:\n",
      "----\n",
      "              Number of missing values  Share of missing\n",
      "item_nbr                             0               0.0\n",
      "unit_sales                           0               0.0\n",
      "onpromotion                          0               0.0\n",
      "dcoilwtico                           0               0.0\n",
      "family                               0               0.0\n",
      "class                                0               0.0\n",
      "perishable                           0               0.0\n",
      "transactions                         0               0.0\n"
     ]
    }
   ],
   "source": [
    "# Explore and manage the missing data\n",
    "print('Before missing values management:')\n",
    "print('----')\n",
    "missing = train_all.apply(lambda x: x.isnull().sum(), axis=0)\n",
    "missing = pd.DataFrame(missing)\n",
    "missing.columns = [\"Number of missing values\"]\n",
    "\n",
    "# Share of missing\n",
    "missing['Share of missing'] = round(missing['Number of missing values']/len(train_all)*100,2)\n",
    "print(missing)\n",
    "\n",
    "missing_rate = {}\n",
    "for col in train_all.columns:\n",
    "    missing_rate[col] = np.sum(train_all[col].isna())/len(train_all[col])\n",
    "\n",
    "missing_rate_lim = 0.7\n",
    "\n",
    "for key in missing_rate.keys():\n",
    "    if missing_rate[key] > missing_rate_lim:\n",
    "        train_all = train_all.drop([key], axis=1)\n",
    "\n",
    "    if 0 < missing_rate[key] < missing_rate_lim:\n",
    "        # Handle missing values - Use the mean strategy\n",
    "        imp = SimpleImputer(missing_values=np.nan, strategy='mean')\n",
    "        imp.fit(np.array(train_all[key]).reshape(-1, 1))\n",
    "        temp_no_miss = imp.transform(np.array(train_all[key]).reshape(-1, 1))\n",
    "        train_all[key] = temp_no_miss\n",
    "\n",
    "print()\n",
    "print('After missing values management:')\n",
    "print('----')\n",
    "# After the management\n",
    "missing = train_all.apply(lambda x: x.isnull().sum(), axis=0)\n",
    "missing = pd.DataFrame(missing)\n",
    "missing.columns = [\"Number of missing values\"]\n",
    "\n",
    "# Share of missing\n",
    "missing['Share of missing'] = round(missing['Number of missing values']/len(train_all)*100,2)\n",
    "print(missing)"
   ]
  },
  {
   "cell_type": "code",
   "execution_count": 8,
   "metadata": {},
   "outputs": [
    {
     "name": "stdout",
     "output_type": "stream",
     "text": [
      "Train - heads:\n",
      "            item_nbr  unit_sales  onpromotion  dcoilwtico        family  \\\n",
      "date                                                                      \n",
      "2013-01-01    103665         7.0     0.069041   63.468855  BREAD/BAKERY   \n",
      "2013-01-01    105574         1.0     0.069041   63.468855     GROCERY I   \n",
      "2013-01-01    105575         2.0     0.069041   63.468855     GROCERY I   \n",
      "2013-01-01    108079         1.0     0.069041   63.468855     GROCERY I   \n",
      "2013-01-01    108701         1.0     0.069041   63.468855          DELI   \n",
      "\n",
      "            class  perishable  transactions  \n",
      "date                                         \n",
      "2013-01-01   2712           1         770.0  \n",
      "2013-01-01   1045           0         770.0  \n",
      "2013-01-01   1045           0         770.0  \n",
      "2013-01-01   1030           0         770.0  \n",
      "2013-01-01   2644           1         770.0  \n",
      "\n",
      "---\n",
      "Train - shape:\n",
      "(2057020, 8)\n"
     ]
    }
   ],
   "source": [
    "print('Train - heads:')\n",
    "print(train_all.head())\n",
    "print()\n",
    "print('---')\n",
    "print('Train - shape:')\n",
    "print(train_all.shape)"
   ]
  },
  {
   "cell_type": "markdown",
   "metadata": {},
   "source": [
    "### B - Categorical Variables"
   ]
  },
  {
   "cell_type": "code",
   "execution_count": 9,
   "metadata": {},
   "outputs": [
    {
     "name": "stdout",
     "output_type": "stream",
     "text": [
      "                        family   count  repartition_percent\n",
      "0                    GROCERY I  697977            33.931464\n",
      "1                    BEVERAGES  302999            14.729998\n",
      "2                     CLEANING  251147            12.209264\n",
      "3                        DAIRY  182730             8.883239\n",
      "4                      PRODUCE  130463             6.342330\n",
      "5                 BREAD/BAKERY   81756             3.974487\n",
      "6                PERSONAL CARE   67294             3.271431\n",
      "7                         DELI   61225             2.976393\n",
      "8                        MEATS   56017             2.723211\n",
      "9                    HOME CARE   38835             1.887925\n",
      "10                     POULTRY   33643             1.635521\n",
      "11                        EGGS   32560             1.582872\n",
      "12                FROZEN FOODS   30350             1.475435\n",
      "13            LIQUOR,WINE,BEER   24007             1.167077\n",
      "14              PREPARED FOODS   15213             0.739565\n",
      "15          HOME AND KITCHEN I    7762             0.377342\n",
      "16         HOME AND KITCHEN II    7003             0.340444\n",
      "17                    LINGERIE    5095             0.247688\n",
      "18             LAWN AND GARDEN    4919             0.239132\n",
      "19                 CELEBRATION    4673             0.227173\n",
      "20                  GROCERY II    4118             0.200193\n",
      "21                     SEAFOOD    3355             0.163100\n",
      "22     PLAYERS AND ELECTRONICS    2940             0.142925\n",
      "23                      BEAUTY    2669             0.129751\n",
      "24                  AUTOMOTIVE    2425             0.117889\n",
      "25                   MAGAZINES    2197             0.106805\n",
      "26                PET SUPPLIES    2108             0.102478\n",
      "27                    HARDWARE     990             0.048128\n",
      "28  SCHOOL AND OFFICE SUPPLIES     278             0.013515\n",
      "29             HOME APPLIANCES     173             0.008410\n",
      "30                       BOOKS      74             0.003597\n",
      "31                   BABY CARE      25             0.001215\n",
      "Index(['item_nbr', 'unit_sales', 'onpromotion', 'dcoilwtico', 'class',\n",
      "       'perishable', 'transactions', 'family_BEVERAGES', 'family_CLEANING',\n",
      "       'family_DAIRY', 'family_GROCERY I', 'family_other'],\n",
      "      dtype='object')\n"
     ]
    }
   ],
   "source": [
    "# Categorical variables\n",
    "# family is a category\n",
    "family = train_all[['family', 'unit_sales']]\n",
    "family = family.groupby(['family'], as_index=False)['unit_sales'].count()\n",
    "family.columns = ['family', 'count']\n",
    "family['repartition_percent'] = family['count']/np.sum(family['count'])*100\n",
    "family = family.sort_values(by=['count'], ascending=False)\n",
    "family.reset_index(inplace=True)\n",
    "family = family.drop('index', axis=1)\n",
    "print(family)\n",
    "\n",
    "selection = list(family['family'].loc[:3])\n",
    "\n",
    "# Nous gardons les 4 premieres categories (choix arbitraire) et créeons une catégorie other\n",
    "def family_transform(x, selection=selection):\n",
    "    if x in selection:\n",
    "        return x\n",
    "    else:\n",
    "        return 'other'\n",
    "\n",
    "\n",
    "train_all['family'] = train_all['family'].apply(family_transform)\n",
    "train_all = pd.get_dummies(train_all)\n",
    "\n",
    "print(train_all.columns)"
   ]
  },
  {
   "cell_type": "markdown",
   "metadata": {},
   "source": [
    "### C - Data Set transformation"
   ]
  },
  {
   "cell_type": "markdown",
   "metadata": {},
   "source": [
    "#### Transform the time series in handling dataset"
   ]
  },
  {
   "cell_type": "code",
   "execution_count": 10,
   "metadata": {},
   "outputs": [],
   "source": [
    "def series_to_supervised(data, shift_window_past, value_to_predict, shift_window_future=0):\n",
    "    \"\"\"\n",
    "    Input:\n",
    "    -----\n",
    "    data: Pandas DF\n",
    "    shift_window_past: number of shifts in the past\n",
    "    shift_window_future: \n",
    "    \"\"\"\n",
    "    name_var = data.columns\n",
    "    cols, names = list(), list()\n",
    "    # input sequence (t-n, ... t-1)\n",
    "    for i in range(shift_window_past, 0, -1):\n",
    "        cols.append(data.shift(i))\n",
    "        names += [('%s(t-%d)' % (name, i)) for name in name_var]\n",
    "        \n",
    "    # Value to predict at t\n",
    "    val = data[value_to_predict]\n",
    "    cols.append(val)\n",
    "    names.append(str(value_to_predict) + '(t)')\n",
    "    \n",
    "    if shift_window_future > 0:\n",
    "        # forecast sequence (t, t+1, ... t+n)\n",
    "        for i in range(1, shift_window_future+1):\n",
    "            cols.append(data.shift(-i))\n",
    "            if i == 0:\n",
    "                names += [('%s(t)' % (name)) for name in name_var]\n",
    "            else:\n",
    "                names += [('%s(t+%d)' % (name, i)) for name in name_var]\n",
    "    # put it all together\n",
    "    agg = pd.concat(cols, axis=1)\n",
    "    agg.columns = names\n",
    "    # drop rows with NaN values (erase the first shift_window_past rows)\n",
    "    agg.dropna(inplace=True)\n",
    "    return agg"
   ]
  },
  {
   "cell_type": "code",
   "execution_count": 11,
   "metadata": {},
   "outputs": [
    {
     "data": {
      "image/png": "[encoded data removed]",
      "text/plain": [
       "<Figure size 720x504 with 1 Axes>"
      ]
     },
     "metadata": {
      "needs_background": "light"
     },
     "output_type": "display_data"
    },
    {
     "data": {
      "image/png": "[encoded data removed]",
      "text/plain": [
       "<Figure size 720x504 with 1 Axes>"
      ]
     },
     "metadata": {
      "needs_background": "light"
     },
     "output_type": "display_data"
    }
   ],
   "source": [
    "# load dataset\n",
    "dataset = train_all.copy()\n",
    "\n",
    "# ensure all data is float\n",
    "dataset = dataset.astype('float32')\n",
    "\n",
    "# frame as supervised learning\n",
    "shift_window_past = 6\n",
    "value_to_predict = 'unit_sales'\n",
    "shift_window_future=0\n",
    "reframed = series_to_supervised(dataset, shift_window_past, value_to_predict, shift_window_future=0)\n",
    "\n",
    "# Visualisation\n",
    "plt.figure(figsize=(10, 7))\n",
    "plt.plot(list(dataset['unit_sales'])[500:600], label='unit_sales(t)')\n",
    "plt.title('Data original')\n",
    "plt.legend()\n",
    "plt.show()\n",
    "\n",
    "plt.figure(figsize=(10, 7))\n",
    "for i in range(1, shift_window_past+1):\n",
    "    plt.plot(list(reframed[('unit_sales(t-%d)' % (i))])[500:600], label=('unit_sales(t-%d)' % (i)))\n",
    "plt.title('Data Reframed')\n",
    "plt.legend()\n",
    "plt.show()"
   ]
  },
  {
   "cell_type": "code",
   "execution_count": 12,
   "metadata": {},
   "outputs": [
    {
     "data": {
      "text/html": [
       "<div>\n",
       "<style scoped>\n",
       "    .dataframe tbody tr th:only-of-type {\n",
       "        vertical-align: middle;\n",
       "    }\n",
       "\n",
       "    .dataframe tbody tr th {\n",
       "        vertical-align: top;\n",
       "    }\n",
       "\n",
       "    .dataframe thead th {\n",
       "        text-align: right;\n",
       "    }\n",
       "</style>\n",
       "<table border=\"1\" class=\"dataframe\">\n",
       "  <thead>\n",
       "    <tr style=\"text-align: right;\">\n",
       "      <th></th>\n",
       "      <th>item_nbr(t-6)</th>\n",
       "      <th>unit_sales(t-6)</th>\n",
       "      <th>onpromotion(t-6)</th>\n",
       "      <th>dcoilwtico(t-6)</th>\n",
       "      <th>class(t-6)</th>\n",
       "      <th>perishable(t-6)</th>\n",
       "      <th>transactions(t-6)</th>\n",
       "      <th>family_BEVERAGES(t-6)</th>\n",
       "      <th>family_CLEANING(t-6)</th>\n",
       "      <th>family_DAIRY(t-6)</th>\n",
       "      <th>...</th>\n",
       "      <th>dcoilwtico(t-1)</th>\n",
       "      <th>class(t-1)</th>\n",
       "      <th>perishable(t-1)</th>\n",
       "      <th>transactions(t-1)</th>\n",
       "      <th>family_BEVERAGES(t-1)</th>\n",
       "      <th>family_CLEANING(t-1)</th>\n",
       "      <th>family_DAIRY(t-1)</th>\n",
       "      <th>family_GROCERY I(t-1)</th>\n",
       "      <th>family_other(t-1)</th>\n",
       "      <th>unit_sales(t)</th>\n",
       "    </tr>\n",
       "    <tr>\n",
       "      <th>date</th>\n",
       "      <th></th>\n",
       "      <th></th>\n",
       "      <th></th>\n",
       "      <th></th>\n",
       "      <th></th>\n",
       "      <th></th>\n",
       "      <th></th>\n",
       "      <th></th>\n",
       "      <th></th>\n",
       "      <th></th>\n",
       "      <th></th>\n",
       "      <th></th>\n",
       "      <th></th>\n",
       "      <th></th>\n",
       "      <th></th>\n",
       "      <th></th>\n",
       "      <th></th>\n",
       "      <th></th>\n",
       "      <th></th>\n",
       "      <th></th>\n",
       "      <th></th>\n",
       "    </tr>\n",
       "  </thead>\n",
       "  <tbody>\n",
       "    <tr>\n",
       "      <th>2013-01-01</th>\n",
       "      <td>103665.0</td>\n",
       "      <td>7.0</td>\n",
       "      <td>0.069041</td>\n",
       "      <td>63.468853</td>\n",
       "      <td>2712.0</td>\n",
       "      <td>1.0</td>\n",
       "      <td>770.0</td>\n",
       "      <td>0.0</td>\n",
       "      <td>0.0</td>\n",
       "      <td>0.0</td>\n",
       "      <td>...</td>\n",
       "      <td>63.468853</td>\n",
       "      <td>3044.0</td>\n",
       "      <td>0.0</td>\n",
       "      <td>770.0</td>\n",
       "      <td>0.0</td>\n",
       "      <td>1.0</td>\n",
       "      <td>0.0</td>\n",
       "      <td>0.0</td>\n",
       "      <td>0.0</td>\n",
       "      <td>1.0</td>\n",
       "    </tr>\n",
       "    <tr>\n",
       "      <th>2013-01-01</th>\n",
       "      <td>105574.0</td>\n",
       "      <td>1.0</td>\n",
       "      <td>0.069041</td>\n",
       "      <td>63.468853</td>\n",
       "      <td>1045.0</td>\n",
       "      <td>0.0</td>\n",
       "      <td>770.0</td>\n",
       "      <td>0.0</td>\n",
       "      <td>0.0</td>\n",
       "      <td>0.0</td>\n",
       "      <td>...</td>\n",
       "      <td>63.468853</td>\n",
       "      <td>1004.0</td>\n",
       "      <td>0.0</td>\n",
       "      <td>770.0</td>\n",
       "      <td>0.0</td>\n",
       "      <td>0.0</td>\n",
       "      <td>0.0</td>\n",
       "      <td>1.0</td>\n",
       "      <td>0.0</td>\n",
       "      <td>1.0</td>\n",
       "    </tr>\n",
       "    <tr>\n",
       "      <th>2013-01-01</th>\n",
       "      <td>105575.0</td>\n",
       "      <td>2.0</td>\n",
       "      <td>0.069041</td>\n",
       "      <td>63.468853</td>\n",
       "      <td>1045.0</td>\n",
       "      <td>0.0</td>\n",
       "      <td>770.0</td>\n",
       "      <td>0.0</td>\n",
       "      <td>0.0</td>\n",
       "      <td>0.0</td>\n",
       "      <td>...</td>\n",
       "      <td>63.468853</td>\n",
       "      <td>3024.0</td>\n",
       "      <td>0.0</td>\n",
       "      <td>770.0</td>\n",
       "      <td>0.0</td>\n",
       "      <td>1.0</td>\n",
       "      <td>0.0</td>\n",
       "      <td>0.0</td>\n",
       "      <td>0.0</td>\n",
       "      <td>13.0</td>\n",
       "    </tr>\n",
       "    <tr>\n",
       "      <th>2013-01-01</th>\n",
       "      <td>108079.0</td>\n",
       "      <td>1.0</td>\n",
       "      <td>0.069041</td>\n",
       "      <td>63.468853</td>\n",
       "      <td>1030.0</td>\n",
       "      <td>0.0</td>\n",
       "      <td>770.0</td>\n",
       "      <td>0.0</td>\n",
       "      <td>0.0</td>\n",
       "      <td>0.0</td>\n",
       "      <td>...</td>\n",
       "      <td>63.468853</td>\n",
       "      <td>1072.0</td>\n",
       "      <td>0.0</td>\n",
       "      <td>770.0</td>\n",
       "      <td>0.0</td>\n",
       "      <td>0.0</td>\n",
       "      <td>0.0</td>\n",
       "      <td>1.0</td>\n",
       "      <td>0.0</td>\n",
       "      <td>3.0</td>\n",
       "    </tr>\n",
       "    <tr>\n",
       "      <th>2013-01-01</th>\n",
       "      <td>108701.0</td>\n",
       "      <td>1.0</td>\n",
       "      <td>0.069041</td>\n",
       "      <td>63.468853</td>\n",
       "      <td>2644.0</td>\n",
       "      <td>1.0</td>\n",
       "      <td>770.0</td>\n",
       "      <td>0.0</td>\n",
       "      <td>0.0</td>\n",
       "      <td>0.0</td>\n",
       "      <td>...</td>\n",
       "      <td>63.468853</td>\n",
       "      <td>1004.0</td>\n",
       "      <td>0.0</td>\n",
       "      <td>770.0</td>\n",
       "      <td>0.0</td>\n",
       "      <td>0.0</td>\n",
       "      <td>0.0</td>\n",
       "      <td>1.0</td>\n",
       "      <td>0.0</td>\n",
       "      <td>1.0</td>\n",
       "    </tr>\n",
       "  </tbody>\n",
       "</table>\n",
       "<p>5 rows × 73 columns</p>\n",
       "</div>"
      ],
      "text/plain": [
       "            item_nbr(t-6)  unit_sales(t-6)  onpromotion(t-6)  dcoilwtico(t-6)  \\\n",
       "date                                                                            \n",
       "2013-01-01       103665.0              7.0          0.069041        63.468853   \n",
       "2013-01-01       105574.0              1.0          0.069041        63.468853   \n",
       "2013-01-01       105575.0              2.0          0.069041        63.468853   \n",
       "2013-01-01       108079.0              1.0          0.069041        63.468853   \n",
       "2013-01-01       108701.0              1.0          0.069041        63.468853   \n",
       "\n",
       "            class(t-6)  perishable(t-6)  transactions(t-6)  \\\n",
       "date                                                         \n",
       "2013-01-01      2712.0              1.0              770.0   \n",
       "2013-01-01      1045.0              0.0              770.0   \n",
       "2013-01-01      1045.0              0.0              770.0   \n",
       "2013-01-01      1030.0              0.0              770.0   \n",
       "2013-01-01      2644.0              1.0              770.0   \n",
       "\n",
       "            family_BEVERAGES(t-6)  family_CLEANING(t-6)  family_DAIRY(t-6)  \\\n",
       "date                                                                         \n",
       "2013-01-01                    0.0                   0.0                0.0   \n",
       "2013-01-01                    0.0                   0.0                0.0   \n",
       "2013-01-01                    0.0                   0.0                0.0   \n",
       "2013-01-01                    0.0                   0.0                0.0   \n",
       "2013-01-01                    0.0                   0.0                0.0   \n",
       "\n",
       "                ...        dcoilwtico(t-1)  class(t-1)  perishable(t-1)  \\\n",
       "date            ...                                                       \n",
       "2013-01-01      ...              63.468853      3044.0              0.0   \n",
       "2013-01-01      ...              63.468853      1004.0              0.0   \n",
       "2013-01-01      ...              63.468853      3024.0              0.0   \n",
       "2013-01-01      ...              63.468853      1072.0              0.0   \n",
       "2013-01-01      ...              63.468853      1004.0              0.0   \n",
       "\n",
       "            transactions(t-1)  family_BEVERAGES(t-1)  family_CLEANING(t-1)  \\\n",
       "date                                                                         \n",
       "2013-01-01              770.0                    0.0                   1.0   \n",
       "2013-01-01              770.0                    0.0                   0.0   \n",
       "2013-01-01              770.0                    0.0                   1.0   \n",
       "2013-01-01              770.0                    0.0                   0.0   \n",
       "2013-01-01              770.0                    0.0                   0.0   \n",
       "\n",
       "            family_DAIRY(t-1)  family_GROCERY I(t-1)  family_other(t-1)  \\\n",
       "date                                                                      \n",
       "2013-01-01                0.0                    0.0                0.0   \n",
       "2013-01-01                0.0                    1.0                0.0   \n",
       "2013-01-01                0.0                    0.0                0.0   \n",
       "2013-01-01                0.0                    1.0                0.0   \n",
       "2013-01-01                0.0                    1.0                0.0   \n",
       "\n",
       "            unit_sales(t)  \n",
       "date                       \n",
       "2013-01-01            1.0  \n",
       "2013-01-01            1.0  \n",
       "2013-01-01           13.0  \n",
       "2013-01-01            3.0  \n",
       "2013-01-01            1.0  \n",
       "\n",
       "[5 rows x 73 columns]"
      ]
     },
     "execution_count": 12,
     "metadata": {},
     "output_type": "execute_result"
    }
   ],
   "source": [
    "reframed.head()"
   ]
  },
  {
   "cell_type": "code",
   "execution_count": 13,
   "metadata": {},
   "outputs": [
    {
     "data": {
      "text/html": [
       "<div>\n",
       "<style scoped>\n",
       "    .dataframe tbody tr th:only-of-type {\n",
       "        vertical-align: middle;\n",
       "    }\n",
       "\n",
       "    .dataframe tbody tr th {\n",
       "        vertical-align: top;\n",
       "    }\n",
       "\n",
       "    .dataframe thead th {\n",
       "        text-align: right;\n",
       "    }\n",
       "</style>\n",
       "<table border=\"1\" class=\"dataframe\">\n",
       "  <thead>\n",
       "    <tr style=\"text-align: right;\">\n",
       "      <th></th>\n",
       "      <th>item_nbr(t-6)</th>\n",
       "      <th>unit_sales(t-6)</th>\n",
       "      <th>onpromotion(t-6)</th>\n",
       "      <th>dcoilwtico(t-6)</th>\n",
       "      <th>class(t-6)</th>\n",
       "      <th>perishable(t-6)</th>\n",
       "      <th>transactions(t-6)</th>\n",
       "      <th>family_BEVERAGES(t-6)</th>\n",
       "      <th>family_CLEANING(t-6)</th>\n",
       "      <th>family_DAIRY(t-6)</th>\n",
       "      <th>...</th>\n",
       "      <th>dcoilwtico(t-1)</th>\n",
       "      <th>class(t-1)</th>\n",
       "      <th>perishable(t-1)</th>\n",
       "      <th>transactions(t-1)</th>\n",
       "      <th>family_BEVERAGES(t-1)</th>\n",
       "      <th>family_CLEANING(t-1)</th>\n",
       "      <th>family_DAIRY(t-1)</th>\n",
       "      <th>family_GROCERY I(t-1)</th>\n",
       "      <th>family_other(t-1)</th>\n",
       "      <th>unit_sales(t)</th>\n",
       "    </tr>\n",
       "    <tr>\n",
       "      <th>date</th>\n",
       "      <th></th>\n",
       "      <th></th>\n",
       "      <th></th>\n",
       "      <th></th>\n",
       "      <th></th>\n",
       "      <th></th>\n",
       "      <th></th>\n",
       "      <th></th>\n",
       "      <th></th>\n",
       "      <th></th>\n",
       "      <th></th>\n",
       "      <th></th>\n",
       "      <th></th>\n",
       "      <th></th>\n",
       "      <th></th>\n",
       "      <th></th>\n",
       "      <th></th>\n",
       "      <th></th>\n",
       "      <th></th>\n",
       "      <th></th>\n",
       "      <th></th>\n",
       "    </tr>\n",
       "  </thead>\n",
       "  <tbody>\n",
       "    <tr>\n",
       "      <th>2017-08-15</th>\n",
       "      <td>2089276.0</td>\n",
       "      <td>1.0</td>\n",
       "      <td>0.0</td>\n",
       "      <td>47.57</td>\n",
       "      <td>1006.0</td>\n",
       "      <td>0.0</td>\n",
       "      <td>849.0</td>\n",
       "      <td>0.0</td>\n",
       "      <td>0.0</td>\n",
       "      <td>0.0</td>\n",
       "      <td>...</td>\n",
       "      <td>47.57</td>\n",
       "      <td>1120.0</td>\n",
       "      <td>0.0</td>\n",
       "      <td>849.0</td>\n",
       "      <td>1.0</td>\n",
       "      <td>0.0</td>\n",
       "      <td>0.0</td>\n",
       "      <td>0.0</td>\n",
       "      <td>0.0</td>\n",
       "      <td>11.0</td>\n",
       "    </tr>\n",
       "    <tr>\n",
       "      <th>2017-08-15</th>\n",
       "      <td>2089789.0</td>\n",
       "      <td>3.0</td>\n",
       "      <td>0.0</td>\n",
       "      <td>47.57</td>\n",
       "      <td>4254.0</td>\n",
       "      <td>0.0</td>\n",
       "      <td>849.0</td>\n",
       "      <td>0.0</td>\n",
       "      <td>0.0</td>\n",
       "      <td>0.0</td>\n",
       "      <td>...</td>\n",
       "      <td>47.57</td>\n",
       "      <td>2028.0</td>\n",
       "      <td>1.0</td>\n",
       "      <td>849.0</td>\n",
       "      <td>0.0</td>\n",
       "      <td>0.0</td>\n",
       "      <td>0.0</td>\n",
       "      <td>0.0</td>\n",
       "      <td>1.0</td>\n",
       "      <td>2.0</td>\n",
       "    </tr>\n",
       "    <tr>\n",
       "      <th>2017-08-15</th>\n",
       "      <td>2106464.0</td>\n",
       "      <td>7.0</td>\n",
       "      <td>1.0</td>\n",
       "      <td>47.57</td>\n",
       "      <td>1148.0</td>\n",
       "      <td>0.0</td>\n",
       "      <td>849.0</td>\n",
       "      <td>1.0</td>\n",
       "      <td>0.0</td>\n",
       "      <td>0.0</td>\n",
       "      <td>...</td>\n",
       "      <td>47.57</td>\n",
       "      <td>1114.0</td>\n",
       "      <td>0.0</td>\n",
       "      <td>849.0</td>\n",
       "      <td>1.0</td>\n",
       "      <td>0.0</td>\n",
       "      <td>0.0</td>\n",
       "      <td>0.0</td>\n",
       "      <td>0.0</td>\n",
       "      <td>1.0</td>\n",
       "    </tr>\n",
       "    <tr>\n",
       "      <th>2017-08-15</th>\n",
       "      <td>2108569.0</td>\n",
       "      <td>1.0</td>\n",
       "      <td>0.0</td>\n",
       "      <td>47.57</td>\n",
       "      <td>1086.0</td>\n",
       "      <td>0.0</td>\n",
       "      <td>849.0</td>\n",
       "      <td>0.0</td>\n",
       "      <td>0.0</td>\n",
       "      <td>0.0</td>\n",
       "      <td>...</td>\n",
       "      <td>47.57</td>\n",
       "      <td>3040.0</td>\n",
       "      <td>0.0</td>\n",
       "      <td>849.0</td>\n",
       "      <td>0.0</td>\n",
       "      <td>1.0</td>\n",
       "      <td>0.0</td>\n",
       "      <td>0.0</td>\n",
       "      <td>0.0</td>\n",
       "      <td>1.0</td>\n",
       "    </tr>\n",
       "    <tr>\n",
       "      <th>2017-08-15</th>\n",
       "      <td>2110456.0</td>\n",
       "      <td>1.0</td>\n",
       "      <td>0.0</td>\n",
       "      <td>47.57</td>\n",
       "      <td>1120.0</td>\n",
       "      <td>0.0</td>\n",
       "      <td>849.0</td>\n",
       "      <td>1.0</td>\n",
       "      <td>0.0</td>\n",
       "      <td>0.0</td>\n",
       "      <td>...</td>\n",
       "      <td>47.57</td>\n",
       "      <td>1060.0</td>\n",
       "      <td>0.0</td>\n",
       "      <td>849.0</td>\n",
       "      <td>0.0</td>\n",
       "      <td>0.0</td>\n",
       "      <td>0.0</td>\n",
       "      <td>1.0</td>\n",
       "      <td>0.0</td>\n",
       "      <td>2.0</td>\n",
       "    </tr>\n",
       "  </tbody>\n",
       "</table>\n",
       "<p>5 rows × 73 columns</p>\n",
       "</div>"
      ],
      "text/plain": [
       "            item_nbr(t-6)  unit_sales(t-6)  onpromotion(t-6)  dcoilwtico(t-6)  \\\n",
       "date                                                                            \n",
       "2017-08-15      2089276.0              1.0               0.0            47.57   \n",
       "2017-08-15      2089789.0              3.0               0.0            47.57   \n",
       "2017-08-15      2106464.0              7.0               1.0            47.57   \n",
       "2017-08-15      2108569.0              1.0               0.0            47.57   \n",
       "2017-08-15      2110456.0              1.0               0.0            47.57   \n",
       "\n",
       "            class(t-6)  perishable(t-6)  transactions(t-6)  \\\n",
       "date                                                         \n",
       "2017-08-15      1006.0              0.0              849.0   \n",
       "2017-08-15      4254.0              0.0              849.0   \n",
       "2017-08-15      1148.0              0.0              849.0   \n",
       "2017-08-15      1086.0              0.0              849.0   \n",
       "2017-08-15      1120.0              0.0              849.0   \n",
       "\n",
       "            family_BEVERAGES(t-6)  family_CLEANING(t-6)  family_DAIRY(t-6)  \\\n",
       "date                                                                         \n",
       "2017-08-15                    0.0                   0.0                0.0   \n",
       "2017-08-15                    0.0                   0.0                0.0   \n",
       "2017-08-15                    1.0                   0.0                0.0   \n",
       "2017-08-15                    0.0                   0.0                0.0   \n",
       "2017-08-15                    1.0                   0.0                0.0   \n",
       "\n",
       "                ...        dcoilwtico(t-1)  class(t-1)  perishable(t-1)  \\\n",
       "date            ...                                                       \n",
       "2017-08-15      ...                  47.57      1120.0              0.0   \n",
       "2017-08-15      ...                  47.57      2028.0              1.0   \n",
       "2017-08-15      ...                  47.57      1114.0              0.0   \n",
       "2017-08-15      ...                  47.57      3040.0              0.0   \n",
       "2017-08-15      ...                  47.57      1060.0              0.0   \n",
       "\n",
       "            transactions(t-1)  family_BEVERAGES(t-1)  family_CLEANING(t-1)  \\\n",
       "date                                                                         \n",
       "2017-08-15              849.0                    1.0                   0.0   \n",
       "2017-08-15              849.0                    0.0                   0.0   \n",
       "2017-08-15              849.0                    1.0                   0.0   \n",
       "2017-08-15              849.0                    0.0                   1.0   \n",
       "2017-08-15              849.0                    0.0                   0.0   \n",
       "\n",
       "            family_DAIRY(t-1)  family_GROCERY I(t-1)  family_other(t-1)  \\\n",
       "date                                                                      \n",
       "2017-08-15                0.0                    0.0                0.0   \n",
       "2017-08-15                0.0                    0.0                1.0   \n",
       "2017-08-15                0.0                    0.0                0.0   \n",
       "2017-08-15                0.0                    0.0                0.0   \n",
       "2017-08-15                0.0                    1.0                0.0   \n",
       "\n",
       "            unit_sales(t)  \n",
       "date                       \n",
       "2017-08-15           11.0  \n",
       "2017-08-15            2.0  \n",
       "2017-08-15            1.0  \n",
       "2017-08-15            1.0  \n",
       "2017-08-15            2.0  \n",
       "\n",
       "[5 rows x 73 columns]"
      ]
     },
     "execution_count": 13,
     "metadata": {},
     "output_type": "execute_result"
    }
   ],
   "source": [
    "reframed.tail()"
   ]
  },
  {
   "cell_type": "code",
   "execution_count": 14,
   "metadata": {},
   "outputs": [
    {
     "name": "stdout",
     "output_type": "stream",
     "text": [
      "Original set shape:\n",
      "----\n",
      "(2057020, 12)\n",
      "\n",
      "Reframed set shape: (with shift_window = 6)\n",
      "----\n",
      "(2057014, 73)\n"
     ]
    }
   ],
   "source": [
    "print('Original set shape:')\n",
    "print('----')\n",
    "print(dataset.shape)\n",
    "print()\n",
    "print('Reframed set shape: (with shift_window = ' + str(shift_window_past) + ')')\n",
    "print('----')\n",
    "print(reframed.shape)"
   ]
  },
  {
   "cell_type": "markdown",
   "metadata": {},
   "source": [
    "### D - Fearture importance"
   ]
  },
  {
   "cell_type": "code",
   "execution_count": 15,
   "metadata": {},
   "outputs": [
    {
     "name": "stdout",
     "output_type": "stream",
     "text": [
      "Shape of X: (2057014, 72)\n",
      "Shape of y: (2057014,)\n"
     ]
    }
   ],
   "source": [
    "# Feature importance\n",
    "X = reframed.drop(['unit_sales(t)'], axis=1).copy()\n",
    "y = reframed['unit_sales(t)'].copy()\n",
    "\n",
    "features = X.columns\n",
    "\n",
    "print('Shape of X:', X.shape)\n",
    "print('Shape of y:', y.shape)"
   ]
  },
  {
   "cell_type": "code",
   "execution_count": 16,
   "metadata": {},
   "outputs": [
    {
     "name": "stderr",
     "output_type": "stream",
     "text": [
      "/Users/louisgiron/anaconda3/lib/python3.6/site-packages/sklearn/linear_model/coordinate_descent.py:491: ConvergenceWarning: Objective did not converge. You might want to increase the number of iterations. Fitting data with very small alpha may cause precision problems.\n",
      "  ConvergenceWarning)\n"
     ]
    }
   ],
   "source": [
    "# Model Lasso for feature selection\n",
    "clf = LassoCV(cv=5)\n",
    "clf = clf.fit(np.array(X), np.array(y))"
   ]
  },
  {
   "cell_type": "code",
   "execution_count": 17,
   "metadata": {},
   "outputs": [
    {
     "data": {
      "image/png": "[encoded data removed]",
      "text/plain": [
       "<Figure size 720x360 with 1 Axes>"
      ]
     },
     "metadata": {
      "needs_background": "light"
     },
     "output_type": "display_data"
    }
   ],
   "source": [
    "# Visualisation of the result\n",
    "res_lasso = np.abs(clf.coef_)\n",
    "index_sort = np.argsort(res_lasso)[::-1]\n",
    "\n",
    "feature_sort = list(features[index_sort])\n",
    "res_lasso_sort = res_lasso[index_sort]\n",
    "treshold = 10**-6\n",
    "\n",
    "fig = plt.figure(figsize=(10, 5))\n",
    "plt.bar(np.arange(0, len(feature_sort)), res_lasso_sort)\n",
    "plt.axhline(y=treshold, color='r', linestyle='-')\n",
    "plt.xticks(np.arange(0, len(feature_sort)), feature_sort, rotation='vertical')\n",
    "plt.title('Feature selection - Lasso')\n",
    "plt.show()"
   ]
  },
  {
   "cell_type": "code",
   "execution_count": 18,
   "metadata": {},
   "outputs": [
    {
     "name": "stdout",
     "output_type": "stream",
     "text": [
      "Feature selected:\n",
      "Index(['item_nbr(t-6)', 'unit_sales(t-6)', 'onpromotion(t-6)',\n",
      "       'dcoilwtico(t-6)', 'class(t-6)', 'perishable(t-6)', 'transactions(t-6)',\n",
      "       'family_BEVERAGES(t-6)', 'family_CLEANING(t-6)', 'family_DAIRY(t-6)',\n",
      "       'family_GROCERY I(t-6)', 'family_other(t-6)', 'item_nbr(t-5)',\n",
      "       'unit_sales(t-5)', 'onpromotion(t-5)', 'dcoilwtico(t-5)', 'class(t-5)',\n",
      "       'perishable(t-5)', 'transactions(t-5)', 'family_BEVERAGES(t-5)',\n",
      "       'family_CLEANING(t-5)', 'family_DAIRY(t-5)', 'family_GROCERY I(t-5)',\n",
      "       'family_other(t-5)', 'item_nbr(t-4)', 'unit_sales(t-4)',\n",
      "       'onpromotion(t-4)', 'dcoilwtico(t-4)', 'class(t-4)', 'perishable(t-4)',\n",
      "       'transactions(t-4)', 'family_BEVERAGES(t-4)', 'family_CLEANING(t-4)',\n",
      "       'family_DAIRY(t-4)', 'family_GROCERY I(t-4)', 'family_other(t-4)',\n",
      "       'item_nbr(t-3)', 'unit_sales(t-3)', 'onpromotion(t-3)',\n",
      "       'dcoilwtico(t-3)', 'class(t-3)', 'perishable(t-3)', 'transactions(t-3)',\n",
      "       'family_BEVERAGES(t-3)', 'family_CLEANING(t-3)', 'family_DAIRY(t-3)',\n",
      "       'family_GROCERY I(t-3)', 'family_other(t-3)', 'item_nbr(t-2)',\n",
      "       'unit_sales(t-2)', 'onpromotion(t-2)', 'dcoilwtico(t-2)', 'class(t-2)',\n",
      "       'perishable(t-2)', 'transactions(t-2)', 'family_BEVERAGES(t-2)',\n",
      "       'family_CLEANING(t-2)', 'family_DAIRY(t-2)', 'family_GROCERY I(t-2)',\n",
      "       'family_other(t-2)', 'item_nbr(t-1)', 'unit_sales(t-1)',\n",
      "       'onpromotion(t-1)', 'dcoilwtico(t-1)', 'class(t-1)', 'perishable(t-1)',\n",
      "       'transactions(t-1)', 'family_BEVERAGES(t-1)', 'family_CLEANING(t-1)',\n",
      "       'family_DAIRY(t-1)', 'family_GROCERY I(t-1)', 'family_other(t-1)'],\n",
      "      dtype='object')\n"
     ]
    }
   ],
   "source": [
    "# Treshold\n",
    "treshold = 0\n",
    "\n",
    "model = SelectFromModel(clf, threshold=treshold, prefit=True)\n",
    "feature_selected_index = model.get_support(indices=True)\n",
    "\n",
    "print('Feature selected:')\n",
    "print(features[feature_selected_index])\n",
    "\n",
    "# selection\n",
    "value_to_predict = 'unit_sales(t)'\n",
    "selection = list(features[feature_selected_index])\n",
    "selection.append(value_to_predict)"
   ]
  },
  {
   "cell_type": "markdown",
   "metadata": {},
   "source": [
    "### E - Final train set"
   ]
  },
  {
   "cell_type": "code",
   "execution_count": null,
   "metadata": {},
   "outputs": [
    {
     "name": "stdout",
     "output_type": "stream",
     "text": [
      "X train original shape: (2057014, 73)\n",
      "X train processed shape: (2057014, 73)\n"
     ]
    }
   ],
   "source": [
    "train_all_processed = reframed[selection]\n",
    "\n",
    "print('X train original shape:', reframed.shape)\n",
    "print('X train processed shape:', train_all_processed.shape)"
   ]
  },
  {
   "cell_type": "markdown",
   "metadata": {},
   "source": [
    "## III - Training setup"
   ]
  },
  {
   "cell_type": "code",
   "execution_count": null,
   "metadata": {},
   "outputs": [],
   "source": [
    "# Date\n",
    "dates = list(train_all_processed.index)\n",
    "date_unique = np.unique(dates)"
   ]
  },
  {
   "cell_type": "code",
   "execution_count": null,
   "metadata": {},
   "outputs": [
    {
     "name": "stderr",
     "output_type": "stream",
     "text": [
      "/Users/louisgiron/anaconda3/lib/python3.6/site-packages/sklearn/preprocessing/data.py:323: DataConversionWarning: Data with input dtype float32 were all converted to float64 by MinMaxScaler.\n",
      "  return self.partial_fit(X, y)\n"
     ]
    }
   ],
   "source": [
    "# Output to predict\n",
    "value_to_predict = 'unit_sales(t)'\n",
    "\n",
    "# Normalize train X\n",
    "data_X = train_all_processed.drop([value_to_predict], axis=1)\n",
    "data_y = train_all_processed[value_to_predict]\n",
    "\n",
    "col_x = list(data_X.columns)\n",
    "col_y = [value_to_predict]\n",
    "\n",
    "scaler = MinMaxScaler(feature_range=(0, 1))\n",
    "data_X_norm = scaler.fit_transform(data_X)\n",
    "data_y_norm = scaler.fit_transform(np.array(data_y).reshape(-1, 1))\n",
    "\n",
    "# Dataframe transformation\n",
    "# X\n",
    "data_X_norm = pd.DataFrame(data_X_norm)\n",
    "data_X_norm.columns = col_x\n",
    "data_X_norm.index = dates\n",
    "\n",
    "# y\n",
    "data_y_norm = pd.DataFrame(data_y_norm)\n",
    "data_y_norm.columns = col_y\n",
    "data_y_norm.index = dates"
   ]
  },
  {
   "cell_type": "code",
   "execution_count": null,
   "metadata": {},
   "outputs": [],
   "source": [
    "# Definition of train, valid and test\n",
    "train_size_ratio = 0.6\n",
    "valid_train_size_ratio = 0.1\n",
    "size = len(date_unique)\n",
    "\n",
    "train_set = date_unique[np.arange(0, int(train_size_ratio*size))]\n",
    "valid_set = date_unique[np.arange(int(train_size_ratio*size), int(train_size_ratio*size)\n",
    "                      + int(valid_train_size_ratio*size))]\n",
    "test_set = date_unique[np.arange(int(train_size_ratio*size+valid_train_size_ratio*size),\n",
    "                     int(size))]"
   ]
  },
  {
   "cell_type": "code",
   "execution_count": null,
   "metadata": {},
   "outputs": [
    {
     "name": "stdout",
     "output_type": "stream",
     "text": [
      "Window to predict: 486 days\n"
     ]
    }
   ],
   "source": [
    "# Nombre de pas temporelle, test set\n",
    "print('Window to predict:', len(test_set), 'days')"
   ]
  },
  {
   "cell_type": "code",
   "execution_count": null,
   "metadata": {},
   "outputs": [
    {
     "name": "stdout",
     "output_type": "stream",
     "text": [
      "X train shape: (1017657, 72)\n",
      "X valid shape: (238527, 72)\n",
      "X test shape: (799299, 72)\n"
     ]
    }
   ],
   "source": [
    "# Split the train data to learn # Warning date -> split linearly\n",
    "X_train = np.array(data_X_norm.loc[train_set])\n",
    "y_train = np.array(data_y_norm.loc[train_set])\n",
    "X_valid = np.array(data_X_norm.loc[valid_set])\n",
    "y_valid = np.array(data_y_norm.loc[valid_set])\n",
    "X_test = np.array(data_X_norm.loc[test_set])\n",
    "y_test = np.array(data_y_norm.loc[test_set])\n",
    "\n",
    "print('X train shape:', X_train.shape)\n",
    "print('X valid shape:', X_valid.shape)\n",
    "print('X test shape:', X_test.shape)\n",
    "\n",
    "def denormalize(y_train, norm_data):\n",
    "    try:\n",
    "        df = y_train.values.reshape(-1, 1)\n",
    "    except AttributeError:\n",
    "        df = y_train.reshape(-1, 1)\n",
    "    norm_data = norm_data.reshape(-1, 1)\n",
    "    scl = MinMaxScaler()\n",
    "    scl.fit_transform(df)\n",
    "    return scl.inverse_transform(norm_data)"
   ]
  },
  {
   "cell_type": "markdown",
   "metadata": {},
   "source": [
    "## IV - Random Forest estimator"
   ]
  },
  {
   "cell_type": "markdown",
   "metadata": {},
   "source": [
    "#### Definition du modele"
   ]
  },
  {
   "cell_type": "code",
   "execution_count": null,
   "metadata": {},
   "outputs": [],
   "source": [
    "# Estimation du meilleur hyper parametre\n",
    "def GridSearchRF(max_depth_, X_train=X_train, y_train=y_train, X_test=X_test):\n",
    "    clrf = RandomForestRegressor(max_depth=max_depth_)\n",
    "    clrf.fit(X_train, y_train)\n",
    "    y_hat = clrf.predict(X_test)\n",
    "\n",
    "    pred = denormalize(data_y, y_hat)\n",
    "    real = denormalize(data_y, y_test)\n",
    "    # Score - R^2 (coefficient of determination) regression score function\n",
    "    r2 = r2_score(real, pred)\n",
    "    \n",
    "    # Rescale the prediction between 0 and 1 - Under scaled predictions\n",
    "    scaler_pred = MinMaxScaler(feature_range=(0, 1))\n",
    "    scaler_fitted_pred = scaler_pred.fit(np.abs(y_hat).reshape(-1, 1))\n",
    "    y_hat_scaled = scaler_fitted_pred.transform(np.abs(y_hat).reshape(-1, 1)).reshape(len(y_hat), )\n",
    "    pred_rescaled = denormalize(data_y, y_hat_scaled)\n",
    "    r2_rescaled = r2_score(real, pred_rescaled)\n",
    "    \n",
    "    return r2, r2_rescaled, pred, pred_rescaled, real"
   ]
  },
  {
   "cell_type": "markdown",
   "metadata": {},
   "source": [
    "#### Hyperparameter estimation"
   ]
  },
  {
   "cell_type": "code",
   "execution_count": null,
   "metadata": {},
   "outputs": [],
   "source": [
    "max_depth_ = np.arange(8, 16, 2)"
   ]
  },
  {
   "cell_type": "code",
   "execution_count": null,
   "metadata": {},
   "outputs": [
    {
     "name": "stdout",
     "output_type": "stream",
     "text": [
      "Total grid search: 4 iteration(s)\n",
      "[ 8 10 12 14]\n"
     ]
    }
   ],
   "source": [
    "print('Total grid search:', len(max_depth_), 'iteration(s)')\n",
    "print(max_depth_)"
   ]
  },
  {
   "cell_type": "code",
   "execution_count": null,
   "metadata": {},
   "outputs": [
    {
     "name": "stderr",
     "output_type": "stream",
     "text": [
      "  0%|          | 0/4 [00:00<?, ?it/s]/Users/louisgiron/anaconda3/lib/python3.6/site-packages/sklearn/ensemble/forest.py:248: FutureWarning: The default value of n_estimators will change from 10 in version 0.20 to 100 in 0.22.\n",
      "  \"10 in version 0.20 to 100 in 0.22.\", FutureWarning)\n",
      "/Users/louisgiron/anaconda3/lib/python3.6/site-packages/ipykernel_launcher.py:4: DataConversionWarning: A column-vector y was passed when a 1d array was expected. Please change the shape of y to (n_samples,), for example using ravel().\n",
      "  after removing the cwd from sys.path.\n",
      " 25%|██▌       | 1/4 [01:29<04:27, 89.11s/it]"
     ]
    },
    {
     "name": "stdout",
     "output_type": "stream",
     "text": [
      "----\n",
      "Iteration: 1\n",
      "Executed in: 1.49 min\n",
      "R2: 0.10753562815188122\n",
      "R2 rescaled predictions: -2.049549470829133\n",
      "\n"
     ]
    },
    {
     "name": "stderr",
     "output_type": "stream",
     "text": [
      "/Users/louisgiron/anaconda3/lib/python3.6/site-packages/sklearn/ensemble/forest.py:248: FutureWarning: The default value of n_estimators will change from 10 in version 0.20 to 100 in 0.22.\n",
      "  \"10 in version 0.20 to 100 in 0.22.\", FutureWarning)\n",
      "/Users/louisgiron/anaconda3/lib/python3.6/site-packages/ipykernel_launcher.py:4: DataConversionWarning: A column-vector y was passed when a 1d array was expected. Please change the shape of y to (n_samples,), for example using ravel().\n",
      "  after removing the cwd from sys.path.\n",
      " 50%|█████     | 2/4 [03:20<03:11, 95.68s/it]"
     ]
    },
    {
     "name": "stdout",
     "output_type": "stream",
     "text": [
      "----\n",
      "Iteration: 2\n",
      "Executed in: 1.85 min\n",
      "R2: 0.11441076451649967\n",
      "R2 rescaled predictions: -0.5808263070774806\n",
      "\n"
     ]
    },
    {
     "name": "stderr",
     "output_type": "stream",
     "text": [
      "/Users/louisgiron/anaconda3/lib/python3.6/site-packages/sklearn/ensemble/forest.py:248: FutureWarning: The default value of n_estimators will change from 10 in version 0.20 to 100 in 0.22.\n",
      "  \"10 in version 0.20 to 100 in 0.22.\", FutureWarning)\n",
      "/Users/louisgiron/anaconda3/lib/python3.6/site-packages/ipykernel_launcher.py:4: DataConversionWarning: A column-vector y was passed when a 1d array was expected. Please change the shape of y to (n_samples,), for example using ravel().\n",
      "  after removing the cwd from sys.path.\n",
      " 75%|███████▌  | 3/4 [05:24<01:44, 104.27s/it]"
     ]
    },
    {
     "name": "stdout",
     "output_type": "stream",
     "text": [
      "----\n",
      "Iteration: 3\n",
      "Executed in: 2.07 min\n",
      "R2: 0.11153382450200755\n",
      "R2 rescaled predictions: -3.248528209928889\n",
      "\n"
     ]
    },
    {
     "name": "stderr",
     "output_type": "stream",
     "text": [
      "/Users/louisgiron/anaconda3/lib/python3.6/site-packages/sklearn/ensemble/forest.py:248: FutureWarning: The default value of n_estimators will change from 10 in version 0.20 to 100 in 0.22.\n",
      "  \"10 in version 0.20 to 100 in 0.22.\", FutureWarning)\n",
      "/Users/louisgiron/anaconda3/lib/python3.6/site-packages/ipykernel_launcher.py:4: DataConversionWarning: A column-vector y was passed when a 1d array was expected. Please change the shape of y to (n_samples,), for example using ravel().\n",
      "  after removing the cwd from sys.path.\n",
      "100%|██████████| 4/4 [07:49<00:00, 116.37s/it]"
     ]
    },
    {
     "name": "stdout",
     "output_type": "stream",
     "text": [
      "----\n",
      "Iteration: 4\n",
      "Executed in: 2.41 min\n",
      "R2: 0.09561531744715301\n",
      "R2 rescaled predictions: -3.9388282484852812\n",
      "\n",
      "Execution time: 7.82 min\n"
     ]
    },
    {
     "name": "stderr",
     "output_type": "stream",
     "text": [
      "\n"
     ]
    }
   ],
   "source": [
    "best_param = [] \n",
    "r2 = []\n",
    "r2_rescaled = []\n",
    "pred = []\n",
    "pred_rescaled = []\n",
    "val_loss = []\n",
    "train_loss = []\n",
    "real = []\n",
    "j = 0\n",
    "\n",
    "start = time.time()\n",
    "\n",
    "for max_depth in tqdm(max_depth_):\n",
    "    start_sub = time.time()\n",
    "    r2_, r2_rescaled_, pred_, pred_rescaled_, real_ = GridSearchRF(max_depth)\n",
    "    r2.append(r2_)\n",
    "    r2_rescaled.append(r2_rescaled_)\n",
    "    pred.append(pred_)\n",
    "    pred_rescaled.append(pred_rescaled_)\n",
    "    real.append(real_)\n",
    "    best_param.append(max_depth)\n",
    "    j += 1\n",
    "    print('----')\n",
    "    print('Iteration:', j)\n",
    "    print('Executed in:', round((time.time()-start_sub)/60, 2), 'min')\n",
    "    print('R2:', r2_)\n",
    "    print('R2 rescaled predictions:', r2_rescaled_)\n",
    "    print()\n",
    "print('Execution time:', round((time.time()-start)/60, 2), 'min')"
   ]
  },
  {
   "cell_type": "markdown",
   "metadata": {},
   "source": [
    "#### Best model"
   ]
  },
  {
   "cell_type": "code",
   "execution_count": null,
   "metadata": {},
   "outputs": [
    {
     "name": "stdout",
     "output_type": "stream",
     "text": [
      "Best param: 10\n",
      "RMSE: 0.11441076451649967\n",
      "RMSE rescaled predictions: -0.5808263070774806\n"
     ]
    }
   ],
   "source": [
    "best_ = np.argsort(r2)[-1]\n",
    "best_param_ = best_param[best_]\n",
    "best_pred_ = pred[best_]\n",
    "best_pred_rescaled_ = pred_rescaled[best_]\n",
    "real_ = real[best_]\n",
    "\n",
    "print('Best param:', best_param_)\n",
    "print('RMSE:', r2[best_])\n",
    "print('RMSE rescaled predictions:', r2_rescaled[best_])"
   ]
  },
  {
   "cell_type": "code",
   "execution_count": null,
   "metadata": {},
   "outputs": [
    {
     "data": {
      "image/png": "[encoded data removed]",
      "text/plain": [
       "<Figure size 720x504 with 1 Axes>"
      ]
     },
     "metadata": {
      "needs_background": "light"
     },
     "output_type": "display_data"
    }
   ],
   "source": [
    "# Comparaison - predictions & label\n",
    "plt.figure(figsize=(10, 7))\n",
    "plt.plot(best_pred_, label='predictions')\n",
    "plt.plot(real_, label='Real data', alpha=0.6)\n",
    "plt.title('Predictions - absolute values VS Original data - RF - R^2: ' + str(np.round(r2[best_], 2)))\n",
    "plt.legend()\n",
    "plt.show()"
   ]
  },
  {
   "cell_type": "code",
   "execution_count": null,
   "metadata": {},
   "outputs": [
    {
     "name": "stdout",
     "output_type": "stream",
     "text": [
      "Original dataset:\n",
      "----\n",
      "Max unit sales:\n",
      "1933.0\n",
      "Min unit sales:\n",
      "0.0\n",
      "Moyenne unit sales:\n",
      "5.476894\n",
      "\n",
      "Original dataset - Rescaled:\n",
      "----\n",
      "Max unit sales:\n",
      "1933.0\n",
      "Min unit sales:\n",
      "0.0\n",
      "Moyenne unit sales:\n",
      "5.476894\n",
      "\n",
      "Predictions:\n",
      "----\n",
      "Max unit sales:\n",
      "953.0223086384807\n",
      "Min unit sales:\n",
      "1.6512005271839176\n",
      "Moyenne unit sales:\n",
      "6.120697458600166\n",
      "\n"
     ]
    }
   ],
   "source": [
    "# Verification\n",
    "print('Original dataset:')\n",
    "print('----')\n",
    "print('Max unit sales:')\n",
    "original = np.array(data_y.loc[test_set])\n",
    "print(original.max())\n",
    "print('Min unit sales:')\n",
    "print(original.min())\n",
    "print('Moyenne unit sales:')\n",
    "print(original.mean())\n",
    "print()\n",
    "\n",
    "print('Original dataset - Rescaled:')\n",
    "print('----')\n",
    "print('Max unit sales:')\n",
    "print(real_.max())\n",
    "print('Min unit sales:')\n",
    "print(real_.min())\n",
    "print('Moyenne unit sales:')\n",
    "print(real_.mean())\n",
    "print()\n",
    "\n",
    "print('Predictions:')\n",
    "print('----')\n",
    "print('Max unit sales:')\n",
    "print(best_pred_.max())\n",
    "print('Min unit sales:')\n",
    "print(best_pred_.min())\n",
    "print('Moyenne unit sales:')\n",
    "print(best_pred_.mean())\n",
    "print()"
   ]
  },
  {
   "cell_type": "markdown",
   "metadata": {},
   "source": [
    "## V - XGBoost regressor"
   ]
  },
  {
   "cell_type": "code",
   "execution_count": null,
   "metadata": {},
   "outputs": [],
   "source": [
    "# Estimation du meilleur hyper parametre\n",
    "def GridSearchXGB(max_depth_, min_child_weight_, X_train=X_train, y_train=y_train, X_test=X_test):\n",
    "    #### Code using Sk learn Wrapper for XGBoost\n",
    "    xgb_model = XGBRegressor(learning_rate =.1, num_boost_round=500,\n",
    "                             max_depth=max_depth_, min_child_weight=min_child_weight_,\n",
    "                             gamma=0,  subsample=.8, colsample_bytree=.7, reg_alpha=1, \n",
    "                             objective= 'reg:linear')\n",
    "    xgb_model.fit(X_train, y_train)\n",
    "    y_hat = xgb_model.predict(X_test)\n",
    "\n",
    "    pred = denormalize(data_y, y_hat)\n",
    "    real = denormalize(data_y, y_test)\n",
    "    # Score - R^2 (coefficient of determination) regression score function\n",
    "    r2 = r2_score(real, pred)\n",
    "    \n",
    "    # Rescale the prediction between 0 and 1 - Under scaled predictions\n",
    "    scaler_pred = MinMaxScaler(feature_range=(0, 1))\n",
    "    scaler_fitted_pred = scaler_pred.fit(np.abs(y_hat).reshape(-1, 1))\n",
    "    y_hat_scaled = scaler_fitted_pred.transform(np.abs(y_hat).reshape(-1, 1)).reshape(len(y_hat), )\n",
    "    pred_rescaled = denormalize(data_y, y_hat_scaled)\n",
    "    r2_rescaled = r2_score(real, pred_rescaled)\n",
    "    \n",
    "    return r2, r2_rescaled, pred, pred_rescaled, real"
   ]
  },
  {
   "cell_type": "markdown",
   "metadata": {},
   "source": [
    "#### Hyperparameter estimation"
   ]
  },
  {
   "cell_type": "code",
   "execution_count": null,
   "metadata": {},
   "outputs": [],
   "source": [
    "max_depth_ = np.arange(2, 5, 1)\n",
    "min_child_weight_ = np.arange(2, 5, 1)"
   ]
  },
  {
   "cell_type": "code",
   "execution_count": null,
   "metadata": {},
   "outputs": [
    {
     "name": "stdout",
     "output_type": "stream",
     "text": [
      "Total grid search: 9 iteration(s)\n",
      "[2 3 4]\n",
      "[2 3 4]\n"
     ]
    }
   ],
   "source": [
    "print('Total grid search:', len(max_depth_)*len(min_child_weight_), 'iteration(s)')\n",
    "print(max_depth_)\n",
    "print(min_child_weight_)"
   ]
  },
  {
   "cell_type": "code",
   "execution_count": null,
   "metadata": {},
   "outputs": [
    {
     "name": "stderr",
     "output_type": "stream",
     "text": [
      "1it [03:22, 202.25s/it]"
     ]
    },
    {
     "name": "stdout",
     "output_type": "stream",
     "text": [
      "----\n",
      "Iteration: 1\n",
      "Executed in: 3.37 min\n",
      "R2: 0.06530789053379604\n",
      "R2 rescaled predictions: -294.2627740090286\n",
      "\n"
     ]
    },
    {
     "name": "stderr",
     "output_type": "stream",
     "text": [
      "\r",
      "2it [06:39, 200.74s/it]"
     ]
    },
    {
     "name": "stdout",
     "output_type": "stream",
     "text": [
      "----\n",
      "Iteration: 2\n",
      "Executed in: 3.29 min\n",
      "R2: 0.060429047262116176\n",
      "R2 rescaled predictions: -276.4262321287743\n",
      "\n"
     ]
    },
    {
     "name": "stderr",
     "output_type": "stream",
     "text": [
      "\r",
      "3it [09:53, 198.66s/it]"
     ]
    },
    {
     "name": "stdout",
     "output_type": "stream",
     "text": [
      "----\n",
      "Iteration: 3\n",
      "Executed in: 3.23 min\n",
      "R2: 0.060433265317566875\n",
      "R2 rescaled predictions: -276.41631844593803\n",
      "\n"
     ]
    }
   ],
   "source": [
    "best_param = [] \n",
    "r2 = []\n",
    "r2_rescaled = []\n",
    "pred = []\n",
    "pred_rescaled = []\n",
    "val_loss = []\n",
    "train_loss = []\n",
    "real = []\n",
    "j = 0\n",
    "\n",
    "start = time.time()\n",
    "\n",
    "for max_depth, min_child_weight in tqdm(itertools.product(max_depth_, min_child_weight_)):\n",
    "    start_sub = time.time()\n",
    "    r2_, r2_rescaled_, pred_, pred_rescaled_, real_ = GridSearchXGB(max_depth, min_child_weight)\n",
    "    r2.append(r2_)\n",
    "    r2_rescaled.append(r2_rescaled_)\n",
    "    pred.append(pred_)\n",
    "    pred_rescaled.append(pred_rescaled_)\n",
    "    real.append(real_)\n",
    "    best_param.append(max_depth)\n",
    "    j += 1\n",
    "    print('----')\n",
    "    print('Iteration:', j)\n",
    "    print('Executed in:', round((time.time()-start_sub)/60, 2), 'min')\n",
    "    print('R2:', r2_)\n",
    "    print('R2 rescaled predictions:', r2_rescaled_)\n",
    "    print()\n",
    "print('Execution time:', round((time.time()-start)/60, 2), 'min')"
   ]
  },
  {
   "cell_type": "markdown",
   "metadata": {},
   "source": [
    "#### Best model"
   ]
  },
  {
   "cell_type": "code",
   "execution_count": null,
   "metadata": {},
   "outputs": [],
   "source": [
    "best_ = np.argsort(r2)[-1]\n",
    "best_param_ = best_param[best_]\n",
    "best_pred_ = pred[best_]\n",
    "best_pred_rescaled_ = pred_rescaled[best_]\n",
    "real_ = real[best_]\n",
    "\n",
    "print('Best param:', best_param_)\n",
    "print('RMSE:', r2[best_])\n",
    "print('RMSE rescaled predictions:', r2_rescaled[best_])"
   ]
  },
  {
   "cell_type": "code",
   "execution_count": null,
   "metadata": {},
   "outputs": [],
   "source": [
    "# Comparaison - predictions & label\n",
    "plt.figure(figsize=(10, 7))\n",
    "plt.plot(best_pred_, label='predictions')\n",
    "plt.plot(real_, label='Real data', alpha=0.6)\n",
    "plt.title('Predictions - absolute values VS Original data - XGB - R^2: ' + str(np.round(r2[best_], 2)))\n",
    "plt.legend()\n",
    "plt.show()"
   ]
  },
  {
   "cell_type": "code",
   "execution_count": null,
   "metadata": {},
   "outputs": [],
   "source": [
    "# Verification\n",
    "print('Original dataset:')\n",
    "print('----')\n",
    "print('Max unit sales:')\n",
    "original = np.array(data_y.loc[test_set])\n",
    "print(original.max())\n",
    "print('Min unit sales:')\n",
    "print(original.min())\n",
    "print('Moyenne unit sales:')\n",
    "print(original.mean())\n",
    "print()\n",
    "\n",
    "print('Original dataset - Rescaled:')\n",
    "print('----')\n",
    "print('Max unit sales:')\n",
    "print(real_.max())\n",
    "print('Min unit sales:')\n",
    "print(real_.min())\n",
    "print('Moyenne unit sales:')\n",
    "print(real_.mean())\n",
    "print()\n",
    "\n",
    "print('Predictions:')\n",
    "print('----')\n",
    "print('Max unit sales:')\n",
    "print(best_pred_.max())\n",
    "print('Min unit sales:')\n",
    "print(best_pred_.min())\n",
    "print('Moyenne unit sales:')\n",
    "print(best_pred_.mean())\n",
    "print()"
   ]
  },
  {
   "cell_type": "markdown",
   "metadata": {},
   "source": [
    "## VI - Recurrent neural network"
   ]
  },
  {
   "cell_type": "markdown",
   "metadata": {},
   "source": [
    "### A - Model initialization"
   ]
  },
  {
   "cell_type": "markdown",
   "metadata": {},
   "source": [
    "#### Input data"
   ]
  },
  {
   "cell_type": "code",
   "execution_count": null,
   "metadata": {},
   "outputs": [],
   "source": [
    "# Dataset reshaped\n",
    "X_train = X_train.reshape((X_train.shape[0], 1, X_train.shape[1]))\n",
    "X_valid = X_valid.reshape((X_valid.shape[0], 1, X_valid.shape[1]))\n",
    "X_test = X_test.reshape((X_test.shape[0], 1, X_test.shape[1]))\n",
    "print('Train:')\n",
    "print('----')\n",
    "print(X_train.shape, y_train.shape)\n",
    "print()\n",
    "print('Valid:')\n",
    "print('----')\n",
    "print(X_valid.shape, y_valid.shape)\n",
    "print()\n",
    "print('Test:')\n",
    "print('----')\n",
    "print(X_test.shape, y_test.shape)"
   ]
  },
  {
   "cell_type": "markdown",
   "metadata": {},
   "source": [
    "#### Graph definition - Hyperparameters research"
   ]
  },
  {
   "cell_type": "code",
   "execution_count": null,
   "metadata": {},
   "outputs": [],
   "source": [
    "def GridSearchRNN(window_size, nb_epoch, batch_size, X_train=X_train, y_train=y_train,\n",
    "                  X_test=X_test, y_test=y_test):\n",
    "\n",
    "    # design network\n",
    "    model = Sequential()\n",
    "    model.add(LSTM(window_size, input_shape=(X_train.shape[1], X_train.shape[2]))) # compute window size\n",
    "    model.add(Dense(1))\n",
    "    model.compile(loss='mean_squared_error', optimizer='adam')\n",
    "    \n",
    "    # fit network\n",
    "    history = model.fit(X_train, y_train, epochs=nb_epoch, batch_size=batch_size,\n",
    "                        validation_data=(X_valid, y_valid), verbose=0, shuffle=False)\n",
    "    \n",
    "    # make a prediction\n",
    "    yhat = np.abs(model.predict(X_test))\n",
    "\n",
    "    # invert scaling for forecast & original\n",
    "    pred = denormalize(data_y, yhat)\n",
    "    real = denormalize(data_y, y_test)\n",
    "    r2 = r2_score(real, pred)\n",
    "    \n",
    "    # Rescale the prediction between 0 and 1 - Under scaled predictions\n",
    "    scaler_pred = MinMaxScaler(feature_range=(0,1))\n",
    "    scaler_fitted_pred = scaler_pred.fit(yhat)\n",
    "    yhat_scaled = scaler_fitted_pred.transform(yhat)\n",
    "    pred_rescaled = denormalize(data_y, yhat_scaled)\n",
    "    r2_rescaled = r2_score(real, pred_rescaled)\n",
    "    \n",
    "    return r2, r2_rescaled, pred, pred_rescaled, real, history"
   ]
  },
  {
   "cell_type": "markdown",
   "metadata": {},
   "source": [
    "#### Hyperparameters initialisation"
   ]
  },
  {
   "cell_type": "code",
   "execution_count": null,
   "metadata": {},
   "outputs": [],
   "source": [
    "window_size = [5, 50, 500]\n",
    "nb_epoch = [5]\n",
    "batch_size = [250]\n",
    "\n",
    "print('Total grid search:', len(window_size)*len(nb_epoch)*len(batch_size), 'iteration(s)')\n",
    "print(window_size)\n",
    "print(nb_epoch)\n",
    "print(batch_size)"
   ]
  },
  {
   "cell_type": "code",
   "execution_count": null,
   "metadata": {
    "scrolled": false
   },
   "outputs": [],
   "source": [
    "best_param = [] \n",
    "r2 = []\n",
    "r2_rescaled = []\n",
    "pred = []\n",
    "pred_rescaled = []\n",
    "val_loss = []\n",
    "train_loss = []\n",
    "real = []\n",
    "j = 0\n",
    "\n",
    "start = time.time()\n",
    "\n",
    "for size, epoch, batch in tqdm(itertools.product(window_size, nb_epoch, batch_size)):\n",
    "    start_sub = time.time()\n",
    "    r2_, r2_rescaled_, pred_, pred_rescaled_, real_, history = GridSearchRNN(size, epoch, batch)\n",
    "    r2.append(r2_)\n",
    "    r2_rescaled.append(r2_rescaled_)\n",
    "    pred.append(pred_)\n",
    "    pred_rescaled.append(pred_rescaled_)\n",
    "    real.append(real_)\n",
    "    best_param.append((size, epoch, batch))\n",
    "    val_loss.append(history.history['val_loss'])\n",
    "    train_loss.append(history.history['loss'])\n",
    "    j += 1\n",
    "    print('----')\n",
    "    print('Iteration:', j)\n",
    "    print('Executed in:', round((time.time()-start_sub)/60, 2), 'min')\n",
    "    print('R2:', r2_)\n",
    "    print('R2 rescaled predictions:', r2_rescaled_)\n",
    "    print()\n",
    "\n",
    "print('Execution time:', round((time.time()-start)/60, 2), 'min')"
   ]
  },
  {
   "cell_type": "markdown",
   "metadata": {},
   "source": [
    "#### Best model"
   ]
  },
  {
   "cell_type": "code",
   "execution_count": null,
   "metadata": {},
   "outputs": [],
   "source": [
    "best_ = np.argsort(r2)[-1]\n",
    "best_param_ = best_param[best_]\n",
    "best_pred_ = pred[best_]\n",
    "best_pred_rescaled_ = pred_rescaled[best_]\n",
    "real_ = real[best_]\n",
    "val_loss_ = val_loss[best_]\n",
    "loss_ = train_loss[best_]\n",
    "\n",
    "print('Best param:', best_param_)\n",
    "print('RMSE:', r2[best_])\n",
    "print('RMSE rescaled predictions:', r2_rescaled[best_])"
   ]
  },
  {
   "cell_type": "markdown",
   "metadata": {},
   "source": [
    "### C - Visualization"
   ]
  },
  {
   "cell_type": "markdown",
   "metadata": {},
   "source": [
    "#### Cost of the prediction"
   ]
  },
  {
   "cell_type": "code",
   "execution_count": null,
   "metadata": {},
   "outputs": [],
   "source": [
    "# plot history\n",
    "plt.plot(loss_, label='train')\n",
    "plt.plot(val_loss_, label='test')\n",
    "plt.title('Evolution of the loss through epoch')\n",
    "plt.xlabel(\"nombre d'epochs\")\n",
    "plt.ylabel(\"loss\")\n",
    "plt.legend()\n",
    "plt.show()"
   ]
  },
  {
   "cell_type": "markdown",
   "metadata": {},
   "source": [
    "#### Predictions against original values"
   ]
  },
  {
   "cell_type": "code",
   "execution_count": null,
   "metadata": {},
   "outputs": [],
   "source": [
    "# Comparaison - Non-scaled data\n",
    "plt.figure(figsize=(10, 7))\n",
    "plt.plot(best_pred_, label='predictions')\n",
    "plt.plot(real_, label='Real data', alpha=0.6)\n",
    "plt.title('Predictions - absolute values VS Original data')\n",
    "plt.legend()\n",
    "plt.show()"
   ]
  },
  {
   "cell_type": "code",
   "execution_count": null,
   "metadata": {},
   "outputs": [],
   "source": [
    "# Comparaison - yhat rescaled between 0 and 1 after prediction\n",
    "plt.figure(figsize=(10, 7))\n",
    "plt.plot(best_pred_rescaled_, label='predictions')\n",
    "plt.plot(real_, label='Real data', alpha=0.6)\n",
    "plt.title('Predictions - absolute values VS Original data - rescaled')\n",
    "plt.legend()\n",
    "plt.show()"
   ]
  },
  {
   "cell_type": "code",
   "execution_count": null,
   "metadata": {},
   "outputs": [],
   "source": [
    "# Verification\n",
    "print('Original dataset:')\n",
    "print('----')\n",
    "print('Max unit sales:')\n",
    "original = np.array(data_y.loc[test_set])\n",
    "print(original.max())\n",
    "print('Min unit sales:')\n",
    "print(original.min())\n",
    "print('Moyenne unit sales:')\n",
    "print(original.mean())\n",
    "print()\n",
    "\n",
    "print('Original dataset - Rescaled:')\n",
    "print('----')\n",
    "print('Max unit sales:')\n",
    "print(real_.max())\n",
    "print('Min unit sales:')\n",
    "print(real_.min())\n",
    "print('Moyenne unit sales:')\n",
    "print(real_.mean())\n",
    "print()\n",
    "\n",
    "print('Predictions:')\n",
    "print('----')\n",
    "print('Max unit sales:')\n",
    "print(best_pred_.max())\n",
    "print('Min unit sales:')\n",
    "print(best_pred_.min())\n",
    "print('Moyenne unit sales:')\n",
    "print(best_pred_.mean())\n",
    "print()"
   ]
  },
  {
   "cell_type": "code",
   "execution_count": null,
   "metadata": {},
   "outputs": [],
   "source": []
  }
 ],
 "metadata": {
  "kernelspec": {
   "display_name": "Python 3",
   "language": "python",
   "name": "python3"
  },
  "language_info": {
   "codemirror_mode": {
    "name": "ipython",
    "version": 3
   },
   "file_extension": ".py",
   "mimetype": "text/x-python",
   "name": "python",
   "nbconvert_exporter": "python",
   "pygments_lexer": "ipython3",
   "version": "3.6.6"
  }
 },
 "nbformat": 4,
 "nbformat_minor": 2
}
